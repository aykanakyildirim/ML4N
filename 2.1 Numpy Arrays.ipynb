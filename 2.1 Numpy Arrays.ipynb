{
 "cells": [
  {
   "cell_type": "markdown",
   "metadata": {},
   "source": [
    "# Let's try Numpy Arrays\n",
    "In this notebook we will see many different ways in which a notebook can be created"
   ]
  },
  {
   "cell_type": "markdown",
   "metadata": {},
   "source": [
    "## Exercise 1 numpy import and an array creation\n",
    "Given the lists: \n",
    "`l1 = [0., 1., 2.]`\n",
    "`l2 = [True, False]`\n",
    "creates the corresponding numpy arrays and print their types "
   ]
  },
  {
   "cell_type": "code",
   "execution_count": 2,
   "metadata": {
    "ExecuteTime": {
     "end_time": "2023-10-12T09:03:08.124505100Z",
     "start_time": "2023-10-12T09:03:08.119506400Z"
    }
   },
   "outputs": [
    {
     "name": "stdout",
     "output_type": "stream",
     "text": [
      "float64\n",
      "bool\n"
     ]
    }
   ],
   "source": [
    "import numpy as np\n",
    "array1 = np.array([0., 1., 2.])\n",
    "array2= np.array([True, False])\n",
    "\n",
    "print(array1.dtype)\n",
    "print(array2.dtype)\n"
   ]
  },
  {
   "cell_type": "markdown",
   "metadata": {},
   "source": [
    "## Exercise 2 creates a multidimensional array\n",
    "\n",
    "First creates a multidimensional array from the given list of lists\n",
    "`l1 = [[[0., 1., 2.],[3., 4., 5.]],[6., 7., 8.],[9., 10., 11.]] `\n",
    "\n",
    "Then print the number of **rows** and **columns** of the arrays"
   ]
  },
  {
   "cell_type": "code",
   "execution_count": 11,
   "metadata": {
    "ExecuteTime": {
     "end_time": "2023-10-12T09:03:12.271750500Z",
     "start_time": "2023-10-12T09:03:12.263414500Z"
    }
   },
   "outputs": [
    {
     "name": "stdout",
     "output_type": "stream",
     "text": [
      "[[[ 0.  1.  2.]\n",
      "  [ 3.  4.  5.]]\n",
      "\n",
      " [[ 6.  7.  8.]\n",
      "  [ 9. 10. 11.]]]\n",
      "Number of rows 2, columns 3\n",
      "(2, 2, 3)\n"
     ]
    }
   ],
   "source": [
    "import numpy as np\n",
    "l1 = [[[0., 1., 2.],[3., 4., 5.]],[[6., 7., 8.],[9., 10., 11.]]]\n",
    "array3= np.array(l1)\n",
    "print(array3)\n",
    "\n",
    "columns = array3.shape[-1]\n",
    "rows = array3.shape[-2]\n",
    "\n",
    "print(f\"Number of rows {rows}, columns {columns}\")\n",
    "\n",
    "print(array3.shape)"
   ]
  },
  {
   "cell_type": "markdown",
   "metadata": {},
   "source": [
    "## Exercise 3 creates a ndarray with values without using lists\n",
    "Create:\n",
    "1) an ndarray 3 x 3 of $1$s \n",
    "2) an ndarray 2 x 2 of $0$s\n",
    "3) an ndarray 1 x 2 of $9$s\n",
    "4) an ndarray of shape () with value 39\n",
    "5) an ndarray of shape (2,5) with values randomly distributed between 0 and 1\n",
    "6) an ndarray with 100 elements between 0 and 5\n",
    "\n",
    "*note*: always print the ndarray to console to make sure you correctly created"
   ]
  },
  {
   "cell_type": "code",
   "execution_count": 13,
   "metadata": {
    "ExecuteTime": {
     "end_time": "2023-10-12T09:03:15.285800100Z",
     "start_time": "2023-10-12T09:03:15.269808500Z"
    }
   },
   "outputs": [
    {
     "name": "stdout",
     "output_type": "stream",
     "text": [
      "[[1. 1. 1.]\n",
      " [1. 1. 1.]\n",
      " [1. 1. 1.]]\n",
      "[[0. 0.]\n",
      " [0. 0.]]\n",
      "[[9 9]]\n",
      "39\n",
      "[[0.94545828 0.23784525 0.99352221 0.50456639 0.81169094]\n",
      " [0.78291597 0.07672786 0.6002711  0.63614125 0.0087455 ]]\n",
      "[0.         0.05050505 0.1010101  0.15151515 0.2020202  0.25252525\n",
      " 0.3030303  0.35353535 0.4040404  0.45454545 0.50505051 0.55555556\n",
      " 0.60606061 0.65656566 0.70707071 0.75757576 0.80808081 0.85858586\n",
      " 0.90909091 0.95959596 1.01010101 1.06060606 1.11111111 1.16161616\n",
      " 1.21212121 1.26262626 1.31313131 1.36363636 1.41414141 1.46464646\n",
      " 1.51515152 1.56565657 1.61616162 1.66666667 1.71717172 1.76767677\n",
      " 1.81818182 1.86868687 1.91919192 1.96969697 2.02020202 2.07070707\n",
      " 2.12121212 2.17171717 2.22222222 2.27272727 2.32323232 2.37373737\n",
      " 2.42424242 2.47474747 2.52525253 2.57575758 2.62626263 2.67676768\n",
      " 2.72727273 2.77777778 2.82828283 2.87878788 2.92929293 2.97979798\n",
      " 3.03030303 3.08080808 3.13131313 3.18181818 3.23232323 3.28282828\n",
      " 3.33333333 3.38383838 3.43434343 3.48484848 3.53535354 3.58585859\n",
      " 3.63636364 3.68686869 3.73737374 3.78787879 3.83838384 3.88888889\n",
      " 3.93939394 3.98989899 4.04040404 4.09090909 4.14141414 4.19191919\n",
      " 4.24242424 4.29292929 4.34343434 4.39393939 4.44444444 4.49494949\n",
      " 4.54545455 4.5959596  4.64646465 4.6969697  4.74747475 4.7979798\n",
      " 4.84848485 4.8989899  4.94949495 5.        ]\n",
      "[0.   0.05 0.1  0.15 0.2  0.25 0.3  0.35 0.4  0.45 0.5  0.55 0.6  0.65\n",
      " 0.7  0.75 0.8  0.85 0.9  0.95 1.   1.05 1.1  1.15 1.2  1.25 1.3  1.35\n",
      " 1.4  1.45 1.5  1.55 1.6  1.65 1.7  1.75 1.8  1.85 1.9  1.95 2.   2.05\n",
      " 2.1  2.15 2.2  2.25 2.3  2.35 2.4  2.45 2.5  2.55 2.6  2.65 2.7  2.75\n",
      " 2.8  2.85 2.9  2.95 3.   3.05 3.1  3.15 3.2  3.25 3.3  3.35 3.4  3.45\n",
      " 3.5  3.55 3.6  3.65 3.7  3.75 3.8  3.85 3.9  3.95 4.   4.05 4.1  4.15\n",
      " 4.2  4.25 4.3  4.35 4.4  4.45 4.5  4.55 4.6  4.65 4.7  4.75 4.8  4.85\n",
      " 4.9  4.95]\n"
     ]
    }
   ],
   "source": [
    "import numpy as np\n",
    "ndarray = np.ones((3,3))\n",
    "print(ndarray)\n",
    "\n",
    "ndarray1= np.zeros((2,2))\n",
    "print(ndarray1)\n",
    "\n",
    "ndarray2= np.full((1,2),9)\n",
    "print(ndarray2)\n",
    "\n",
    "ndarray3= np.full((), 39)\n",
    "print(ndarray3)\n",
    "\n",
    "ndarray4= np.random.random((2,5))\n",
    "print(ndarray4)\n",
    "\n",
    "ndarray5=np.linspace(0,5,100)\n",
    "print(ndarray5)\n",
    "\n",
    "#Alternatively: using arange. the difference is one linspace is inclusive of the boundary \n",
    "ndarray6=np.arange(0,5,5/100)\n",
    "print(ndarray6)\n"
   ]
  },
  {
   "cell_type": "code",
   "execution_count": null,
   "metadata": {},
   "outputs": [],
   "source": []
  }
 ],
 "metadata": {
  "kernelspec": {
   "display_name": "Python 3 (ipykernel)",
   "language": "python",
   "name": "python3"
  },
  "language_info": {
   "codemirror_mode": {
    "name": "ipython",
    "version": 3
   },
   "file_extension": ".py",
   "mimetype": "text/x-python",
   "name": "python",
   "nbconvert_exporter": "python",
   "pygments_lexer": "ipython3",
   "version": "3.11.4"
  }
 },
 "nbformat": 4,
 "nbformat_minor": 4
}
