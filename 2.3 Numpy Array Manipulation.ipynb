{
 "cells": [
  {
   "cell_type": "markdown",
   "id": "7b648069",
   "metadata": {},
   "source": [
    "# Let's manipulate some arrays! \n",
    "In this notebook we will see different wasy in which we can manipulate an array"
   ]
  },
  {
   "cell_type": "markdown",
   "id": "b7ed14a8",
   "metadata": {},
   "source": [
    "## Exercise 1 Array accessing \n",
    "Given an ndarray x = [[3.0, 2.0, 5.0], [1.0, 4.0, 2.0], [6.0, 7.0, 8.0]]\n",
    "Return two arrays:\n",
    "1) Compute the mean of the elements along the second column \n",
    "2) Retrieve the elements with values higher than 2 along the second and third rows "
   ]
  },
  {
   "cell_type": "code",
   "execution_count": 21,
   "id": "9bec4df9",
   "metadata": {
    "ExecuteTime": {
     "end_time": "2023-10-12T10:27:08.414500700Z",
     "start_time": "2023-10-12T10:27:08.371123300Z"
    }
   },
   "outputs": [
    {
     "name": "stdout",
     "output_type": "stream",
     "text": [
      "[2. 4. 7.]\n",
      "4.333333333333333\n",
      "[[1. 4. 2.]\n",
      " [6. 7. 8.]]\n",
      "[4. 6. 7. 8.]\n"
     ]
    }
   ],
   "source": [
    "import numpy as np\n",
    "\n",
    "x= np.array([[3.0, 2.0, 5.0], [1.0, 4.0, 2.0], [6.0, 7.0, 8.0]])\n",
    "\n",
    "el = x[: , 1]\n",
    "print(el)\n",
    "\n",
    "print(el.mean())\n",
    "\n",
    "slice=x[[1,2]]\n",
    "print(slice)\n",
    "print(slice[slice>2])"
   ]
  },
  {
   "cell_type": "markdown",
   "id": "8c82de3d",
   "metadata": {},
   "source": [
    "## Exercise 2 Array accessing to update\n",
    "Given the previous array x = [[3.0, 2.0, 5.0], [1.0, 4.0, 2.0], [6.0, 7.0, 8.0]]\n",
    "1) set the values of the first column to 0, if they are greater than 2\n",
    "2) then try to do the same for the first and third columns together. Does it work? "
   ]
  },
  {
   "cell_type": "code",
   "execution_count": 27,
   "id": "273b3322",
   "metadata": {
    "ExecuteTime": {
     "end_time": "2023-10-12T10:27:08.860883100Z",
     "start_time": "2023-10-12T10:27:08.850884200Z"
    }
   },
   "outputs": [
    {
     "name": "stdout",
     "output_type": "stream",
     "text": [
      "[[3. 2. 5.]\n",
      " [1. 4. 2.]\n",
      " [6. 7. 8.]]\n",
      "first update\n",
      " [[0. 2. 5.]\n",
      " [1. 4. 2.]\n",
      " [0. 7. 8.]]\n",
      "second update\n",
      " [[3. 2. 5.]\n",
      " [1. 4. 2.]\n",
      " [6. 7. 8.]]\n",
      "[[0. 0.]\n",
      " [1. 2.]\n",
      " [0. 0.]]\n"
     ]
    }
   ],
   "source": [
    "x= np.array([[3.0, 2.0, 5.0], [1.0, 4.0, 2.0], [6.0, 7.0, 8.0]])\n",
    "print(x)\n",
    "\n",
    "mask = x[:, 0 ]>2\n",
    "x[:,0][mask]=0\n",
    "print(\"first update\\n\", x)\n",
    "\n",
    "x= np.array([[3.0, 2.0, 5.0], [1.0, 4.0, 2.0], [6.0, 7.0, 8.0]])\n",
    "mask = x[:, [0,2]]>2\n",
    "x[:,[0,2]][mask]=0\n",
    "print(\"second update\\n\", x)\n",
    "\n",
    "a= x[:, [0,2]]\n",
    "a[mask]=0\n",
    "print(a)\n"
   ]
  },
  {
   "cell_type": "markdown",
   "id": "325a14df",
   "metadata": {},
   "source": [
    "## Exercise 3 Array concatenation and reshaping\n",
    "Given two arrays x1 = [[3,1], [2,4]] and x2 = [[3, 4], [2,4], [2,5]]\n",
    "\n",
    "Try to concatenate them vertically and then horizontally\n",
    "If something does not work try to reshape the arrays so that you can concatenate (or stack) them.\n"
   ]
  },
  {
   "cell_type": "code",
   "execution_count": null,
   "id": "b37cd92d",
   "metadata": {
    "ExecuteTime": {
     "end_time": "2023-10-12T10:27:10.933599800Z",
     "start_time": "2023-10-12T10:27:10.915593300Z"
    }
   },
   "outputs": [],
   "source": [
    "s"
   ]
  }
 ],
 "metadata": {
  "kernelspec": {
   "display_name": "Python 3 (ipykernel)",
   "language": "python",
   "name": "python3"
  },
  "language_info": {
   "codemirror_mode": {
    "name": "ipython",
    "version": 3
   },
   "file_extension": ".py",
   "mimetype": "text/x-python",
   "name": "python",
   "nbconvert_exporter": "python",
   "pygments_lexer": "ipython3",
   "version": "3.11.4"
  }
 },
 "nbformat": 4,
 "nbformat_minor": 5
}
